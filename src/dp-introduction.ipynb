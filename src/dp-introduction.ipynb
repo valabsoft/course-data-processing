{
 "cells": [
  {
   "cell_type": "code",
   "execution_count": 1,
   "id": "8e2fdfec",
   "metadata": {},
   "outputs": [
    {
     "name": "stdout",
     "output_type": "stream",
     "text": [
      "['Isaac Newton', 'Mikhail Lomonosov', 'Marie Curie', 'Albert Einstein']\n"
     ]
    }
   ],
   "source": [
    "scientists = [\n",
    "    \"Isaac Newton\",\n",
    "    \"Mikhail Lomonosov\",\n",
    "    \"Marie Curie\",\n",
    "    \"Albert Einstein\"]\n",
    "print(scientists)"
   ]
  },
  {
   "cell_type": "code",
   "execution_count": 2,
   "id": "fb816560",
   "metadata": {},
   "outputs": [
    {
     "name": "stdout",
     "output_type": "stream",
     "text": [
      "Isaac Newton\n",
      "Mikhail Lomonosov\n",
      "Marie Curie\n",
      "Albert Einstein\n"
     ]
    }
   ],
   "source": [
    "scientists = [\n",
    "    \"Isaac Newton\",\n",
    "    \"Mikhail Lomonosov\",\n",
    "    \"Marie Curie\",\n",
    "    \"Albert Einstein\"]\n",
    "for person in scientists:\n",
    "    print(person)"
   ]
  },
  {
   "cell_type": "code",
   "execution_count": 3,
   "id": "f6843455",
   "metadata": {},
   "outputs": [
    {
     "data": {
      "text/plain": [
       "int"
      ]
     },
     "execution_count": 3,
     "metadata": {},
     "output_type": "execute_result"
    }
   ],
   "source": [
    "# Целое число\n",
    "a = 5\n",
    "type(a)"
   ]
  },
  {
   "cell_type": "code",
   "execution_count": 4,
   "id": "32385d29",
   "metadata": {},
   "outputs": [
    {
     "data": {
      "text/plain": [
       "float"
      ]
     },
     "execution_count": 4,
     "metadata": {},
     "output_type": "execute_result"
    }
   ],
   "source": [
    "# Вещественное число\n",
    "a = 5.25\n",
    "type(a)"
   ]
  },
  {
   "cell_type": "code",
   "execution_count": 5,
   "id": "082735b7",
   "metadata": {},
   "outputs": [
    {
     "data": {
      "text/plain": [
       "complex"
      ]
     },
     "execution_count": 5,
     "metadata": {},
     "output_type": "execute_result"
    }
   ],
   "source": [
    "# Комплексное число\n",
    "a = 5+0.25j\n",
    "type(a)"
   ]
  },
  {
   "cell_type": "code",
   "execution_count": 6,
   "id": "c204cc37",
   "metadata": {},
   "outputs": [
    {
     "name": "stdout",
     "output_type": "stream",
     "text": [
      "5\n"
     ]
    }
   ],
   "source": [
    "# Приведение к целому\n",
    "a = int(5.25)\n",
    "print(a)"
   ]
  },
  {
   "cell_type": "code",
   "execution_count": 7,
   "id": "62b7049a",
   "metadata": {},
   "outputs": [
    {
     "name": "stdout",
     "output_type": "stream",
     "text": [
      "5.0\n"
     ]
    }
   ],
   "source": [
    "# Приведение к вещественному\n",
    "a = float(5.0)\n",
    "print(a)"
   ]
  },
  {
   "cell_type": "code",
   "execution_count": 8,
   "id": "dbbfb5f8",
   "metadata": {},
   "outputs": [
    {
     "name": "stdout",
     "output_type": "stream",
     "text": [
      "(5.25+0j)\n"
     ]
    }
   ],
   "source": [
    "# Приведение к комплексному\n",
    "a = complex(5.25)\n",
    "print(a)"
   ]
  },
  {
   "cell_type": "code",
   "execution_count": 9,
   "id": "0f88de62",
   "metadata": {},
   "outputs": [
    {
     "name": "stdout",
     "output_type": "stream",
     "text": [
      "5.0\n"
     ]
    }
   ],
   "source": [
    "a = (5+0.25j).real\n",
    "print(a)"
   ]
  },
  {
   "cell_type": "code",
   "execution_count": 10,
   "id": "3368f4cf",
   "metadata": {},
   "outputs": [
    {
     "name": "stdout",
     "output_type": "stream",
     "text": [
      "0.25\n"
     ]
    }
   ],
   "source": [
    "b = (5+0.25j).imag\n",
    "print(b)"
   ]
  },
  {
   "cell_type": "code",
   "execution_count": 11,
   "id": "35d58ccd",
   "metadata": {},
   "outputs": [
    {
     "data": {
      "text/plain": [
       "(5-0.25j)"
      ]
     },
     "execution_count": 11,
     "metadata": {},
     "output_type": "execute_result"
    }
   ],
   "source": [
    "(5+0.25j).conjugate()"
   ]
  },
  {
   "cell_type": "code",
   "execution_count": 12,
   "id": "1f1aa584",
   "metadata": {},
   "outputs": [
    {
     "name": "stdout",
     "output_type": "stream",
     "text": [
      "Площадь треугольника: 4.48\n"
     ]
    }
   ],
   "source": [
    "# Вычисление площади треугольника по формуле Герона\n",
    "import math\n",
    "\n",
    "side_a = 4.5\n",
    "side_b = 2.3\n",
    "side_c = 3.9\n",
    "\n",
    "semi_perimeter = (side_a + side_b + side_c) / 2\n",
    "triangle_area = math.sqrt(semi_perimeter \n",
    "                          * (semi_perimeter - side_a)\n",
    "                          * (semi_perimeter - side_b)\n",
    "                          * (semi_perimeter - side_c))\n",
    "\n",
    "print(f\"Площадь треугольника: {triangle_area:.2f}\")"
   ]
  },
  {
   "cell_type": "code",
   "execution_count": 13,
   "id": "b84d1277",
   "metadata": {},
   "outputs": [
    {
     "data": {
      "text/plain": [
       "bool"
      ]
     },
     "execution_count": 13,
     "metadata": {},
     "output_type": "execute_result"
    }
   ],
   "source": [
    "# Определение логической переменной\n",
    "bool_value = True\n",
    "type(bool_value)"
   ]
  },
  {
   "cell_type": "code",
   "execution_count": 14,
   "id": "26581776",
   "metadata": {},
   "outputs": [
    {
     "data": {
      "text/plain": [
       "False"
      ]
     },
     "execution_count": 14,
     "metadata": {},
     "output_type": "execute_result"
    }
   ],
   "source": [
    "numberA = 0.01\n",
    "numberB = 0.1**2\n",
    "numberA == numberB"
   ]
  },
  {
   "cell_type": "code",
   "execution_count": 15,
   "id": "41422ec2",
   "metadata": {},
   "outputs": [
    {
     "data": {
      "text/plain": [
       "True"
      ]
     },
     "execution_count": 15,
     "metadata": {},
     "output_type": "execute_result"
    }
   ],
   "source": [
    "math.isclose(numberA, numberB)"
   ]
  },
  {
   "cell_type": "code",
   "execution_count": 16,
   "id": "96e720c8",
   "metadata": {},
   "outputs": [
    {
     "data": {
      "text/plain": [
       "True"
      ]
     },
     "execution_count": 16,
     "metadata": {},
     "output_type": "execute_result"
    }
   ],
   "source": [
    "math.isclose(numberA, numberB, abs_tol = 0.001)"
   ]
  },
  {
   "cell_type": "code",
   "execution_count": 17,
   "id": "594b93a0",
   "metadata": {},
   "outputs": [
    {
     "data": {
      "text/plain": [
       "True"
      ]
     },
     "execution_count": 17,
     "metadata": {},
     "output_type": "execute_result"
    }
   ],
   "source": [
    "1.25 > 2.43 or 1.25 > -0.37"
   ]
  },
  {
   "cell_type": "code",
   "execution_count": 18,
   "id": "59700b27",
   "metadata": {},
   "outputs": [
    {
     "name": "stdout",
     "output_type": "stream",
     "text": [
      "Введите целое число от 1 до 3: 1\n",
      "Вы ввели единицу\n"
     ]
    }
   ],
   "source": [
    "number = int(input('Введите целое число от 1 до 3: '))\n",
    "if number == 1:\n",
    "    print(\"Вы ввели единицу\")\n",
    "elif number == 2:\n",
    "    print(\"Вы ввели двойку\")\n",
    "elif number == 3:\n",
    "    print(\"Вы ввели тройку\")\n",
    "else:\n",
    "    print(\"Ошика ввода данных!\")        "
   ]
  },
  {
   "cell_type": "code",
   "execution_count": 19,
   "id": "4d5c46b0",
   "metadata": {},
   "outputs": [
    {
     "name": "stdout",
     "output_type": "stream",
     "text": [
      "Ваш вариант: 1\n",
      "Ваш вариант: 2\n",
      "Ваш вариант: 3\n",
      "Ваш вариант: 4\n",
      "Ваш вариант: 5\n",
      "Ваш вариант: 6\n",
      "Ваш вариант: 7\n",
      "Ваш вариант: 8\n",
      "Ваш вариант: 9\n",
      "Ваш вариант: 0\n",
      "Вы угадали число 0 за 10 попыток\n"
     ]
    }
   ],
   "source": [
    "# Подключаем библиотеку\n",
    "# для генерации случайных чисел\n",
    "import random\n",
    "number = random.randint(0, 9) # Генерация числа\n",
    "counter = 1; # Счетчик попыток\n",
    "while int(input('Ваш вариант: ')) != number:\n",
    "    counter = counter + 1              \n",
    "else:\n",
    "    print(f'Вы угадали число {number} за {counter} попыток')        "
   ]
  },
  {
   "cell_type": "code",
   "execution_count": 20,
   "id": "29e0f786",
   "metadata": {},
   "outputs": [
    {
     "name": "stdout",
     "output_type": "stream",
     "text": [
      "apple\n",
      "banana\n",
      "cherry\n"
     ]
    }
   ],
   "source": [
    "fruits = [\"apple\", \"banana\", \"cherry\", \"potato\"]\n",
    "for f in fruits:  \n",
    "    if f != \"potato\":\n",
    "        print(f)\n",
    "    else:\n",
    "        break"
   ]
  },
  {
   "cell_type": "code",
   "execution_count": 21,
   "id": "8d9b05db",
   "metadata": {},
   "outputs": [
    {
     "name": "stdout",
     "output_type": "stream",
     "text": [
      "1\n",
      "2\n",
      "3\n"
     ]
    }
   ],
   "source": [
    "n = 3\n",
    "for i in range(1, n + 1):\n",
    "    print(i)"
   ]
  },
  {
   "cell_type": "code",
   "execution_count": 22,
   "id": "15318014",
   "metadata": {},
   "outputs": [
    {
     "name": "stdout",
     "output_type": "stream",
     "text": [
      "25\n",
      "0.0625\n"
     ]
    }
   ],
   "source": [
    "def funcX2(x):\n",
    "    return x**2\n",
    "\n",
    "print(funcX2(5))\n",
    "print(funcX2(0.25))"
   ]
  },
  {
   "cell_type": "code",
   "execution_count": 24,
   "id": "66df9a2a",
   "metadata": {},
   "outputs": [
    {
     "ename": "TypeError",
     "evalue": "unsupported operand type(s) for ** or pow(): 'str' and 'int'",
     "output_type": "error",
     "traceback": [
      "\u001b[1;31m---------------------------------------------------------------------------\u001b[0m",
      "\u001b[1;31mTypeError\u001b[0m                                 Traceback (most recent call last)",
      "\u001b[1;32m~\\AppData\\Local\\Temp\\ipykernel_1484\\2643207950.py\u001b[0m in \u001b[0;36m<module>\u001b[1;34m\u001b[0m\n\u001b[1;32m----> 1\u001b[1;33m \u001b[0mprint\u001b[0m\u001b[1;33m(\u001b[0m\u001b[0mfuncX2\u001b[0m\u001b[1;33m(\u001b[0m\u001b[1;34m'Мир'\u001b[0m\u001b[1;33m)\u001b[0m\u001b[1;33m)\u001b[0m\u001b[1;33m\u001b[0m\u001b[1;33m\u001b[0m\u001b[0m\n\u001b[0m",
      "\u001b[1;32m~\\AppData\\Local\\Temp\\ipykernel_1484\\3718921567.py\u001b[0m in \u001b[0;36mfuncX2\u001b[1;34m(x)\u001b[0m\n\u001b[0;32m      1\u001b[0m \u001b[1;32mdef\u001b[0m \u001b[0mfuncX2\u001b[0m\u001b[1;33m(\u001b[0m\u001b[0mx\u001b[0m\u001b[1;33m)\u001b[0m\u001b[1;33m:\u001b[0m\u001b[1;33m\u001b[0m\u001b[1;33m\u001b[0m\u001b[0m\n\u001b[1;32m----> 2\u001b[1;33m     \u001b[1;32mreturn\u001b[0m \u001b[0mx\u001b[0m\u001b[1;33m**\u001b[0m\u001b[1;36m2\u001b[0m\u001b[1;33m\u001b[0m\u001b[1;33m\u001b[0m\u001b[0m\n\u001b[0m\u001b[0;32m      3\u001b[0m \u001b[1;33m\u001b[0m\u001b[0m\n\u001b[0;32m      4\u001b[0m \u001b[1;33m\u001b[0m\u001b[0m\n\u001b[0;32m      5\u001b[0m \u001b[0mprint\u001b[0m\u001b[1;33m(\u001b[0m\u001b[0mfuncX2\u001b[0m\u001b[1;33m(\u001b[0m\u001b[1;36m5\u001b[0m\u001b[1;33m)\u001b[0m\u001b[1;33m)\u001b[0m\u001b[1;33m\u001b[0m\u001b[1;33m\u001b[0m\u001b[0m\n",
      "\u001b[1;31mTypeError\u001b[0m: unsupported operand type(s) for ** or pow(): 'str' and 'int'"
     ]
    }
   ],
   "source": [
    "print(funcX2('Мир'))"
   ]
  }
 ],
 "metadata": {
  "kernelspec": {
   "display_name": "Python 3 (ipykernel)",
   "language": "python",
   "name": "python3"
  },
  "language_info": {
   "codemirror_mode": {
    "name": "ipython",
    "version": 3
   },
   "file_extension": ".py",
   "mimetype": "text/x-python",
   "name": "python",
   "nbconvert_exporter": "python",
   "pygments_lexer": "ipython3",
   "version": "3.9.13"
  }
 },
 "nbformat": 4,
 "nbformat_minor": 5
}
