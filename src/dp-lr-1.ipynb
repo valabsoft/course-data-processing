{
 "cells": [
  {
   "cell_type": "markdown",
   "id": "59866138",
   "metadata": {},
   "source": [
    "## Пример выполнения ЛР№1"
   ]
  },
  {
   "cell_type": "markdown",
   "id": "22d88170",
   "metadata": {},
   "source": [
    "#### Импорт библиотек"
   ]
  },
  {
   "cell_type": "code",
   "execution_count": 1,
   "id": "d6640241",
   "metadata": {},
   "outputs": [],
   "source": [
    "import math"
   ]
  },
  {
   "cell_type": "markdown",
   "id": "26c5898e",
   "metadata": {},
   "source": [
    "#### Чтение исходных данных"
   ]
  },
  {
   "cell_type": "code",
   "execution_count": 2,
   "id": "d7bab76d",
   "metadata": {},
   "outputs": [
    {
     "name": "stdout",
     "output_type": "stream",
     "text": [
      "X0 = -2.5; Xf = 2.5; hX = 0.01\n"
     ]
    }
   ],
   "source": [
    "in_file_name = 'input.txt' # Имя входного файла\n",
    "in_file = open(in_file_name, 'r') # Открытие файла\n",
    "X0 = in_file.readline().strip() # Читаем X0\n",
    "Xf = in_file.readline().strip() # Читаем Xf\n",
    "hX = in_file.readline().strip() # Читаем hX\n",
    "# Выводим считанные значения параметров\n",
    "print(f'X0 = {X0}; Xf = {Xf}; hX = {hX}')\n",
    "in_file.close() # Закрываем фал"
   ]
  },
  {
   "cell_type": "markdown",
   "id": "9b578224",
   "metadata": {},
   "source": [
    "#### Определяем пользовательскую функцию"
   ]
  },
  {
   "cell_type": "code",
   "execution_count": 3,
   "id": "8df66489",
   "metadata": {},
   "outputs": [],
   "source": [
    "def my_func(X):\n",
    "    return math.pow(X,3)*math.sin(math.fabs(4*X))"
   ]
  },
  {
   "cell_type": "markdown",
   "id": "6ed19d6d",
   "metadata": {},
   "source": [
    "#### Табулирование функции и запись в файл"
   ]
  },
  {
   "cell_type": "code",
   "execution_count": 4,
   "id": "156be06e",
   "metadata": {},
   "outputs": [
    {
     "name": "stdout",
     "output_type": "stream",
     "text": [
      "Кол-во точек: 501\n"
     ]
    }
   ],
   "source": [
    "# Преобразование в числовой формат\n",
    "Xf = float(Xf)\n",
    "X0 = float(X0)\n",
    "hX = float(hX)\n",
    "N = math.ceil((Xf - X0)/hX) + 1\n",
    "print(f'Кол-во точек: {N}')"
   ]
  },
  {
   "cell_type": "code",
   "execution_count": 5,
   "id": "647b8c7e",
   "metadata": {},
   "outputs": [],
   "source": [
    "out_file_name = 'output.txt' # Имя входного файла\n",
    "out_file = open(out_file_name, 'w') # Открытие файла\n",
    "# Инициализируем переменные для максимума и минимума\n",
    "Ymin = math.inf\n",
    "Ymax = -math.inf\n",
    "for i in range(N):\n",
    "    X = X0 + i*hX # Вычисление аргумента\n",
    "    Y = my_func(X)# Вычисление функции\n",
    "    # Вывод в файл\n",
    "    out_file.write(f'{X:.2f}\\t{Y:.4f}\\n')\n",
    "    # Поиск минимума и максимума\n",
    "    if (Y < Ymin):\n",
    "        Ymin = Y\n",
    "        \n",
    "    if (Y > Ymax):\n",
    "        Ymax = Y\n",
    "    \n",
    "out_file.close()"
   ]
  },
  {
   "cell_type": "code",
   "execution_count": 6,
   "id": "af1612aa",
   "metadata": {},
   "outputs": [
    {
     "name": "stdout",
     "output_type": "stream",
     "text": [
      "Минимальное значение: -8.5003\n",
      "Максимальное значение: 8.5003\n"
     ]
    }
   ],
   "source": [
    "print(f'Минимальное значение: {Ymin:.4f}')\n",
    "print(f'Максимальное значение: {Ymax:.4f}')"
   ]
  }
 ],
 "metadata": {
  "kernelspec": {
   "display_name": "Python 3 (ipykernel)",
   "language": "python",
   "name": "python3"
  },
  "language_info": {
   "codemirror_mode": {
    "name": "ipython",
    "version": 3
   },
   "file_extension": ".py",
   "mimetype": "text/x-python",
   "name": "python",
   "nbconvert_exporter": "python",
   "pygments_lexer": "ipython3",
   "version": "3.9.13"
  }
 },
 "nbformat": 4,
 "nbformat_minor": 5
}
